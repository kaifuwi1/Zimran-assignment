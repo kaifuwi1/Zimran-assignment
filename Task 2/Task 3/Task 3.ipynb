{
 "cells": [
  {
   "cell_type": "markdown",
   "id": "ec6b38d9-6b3a-4fc7-8173-0871bab2e477",
   "metadata": {},
   "source": [
    "# Facebook Ads Performance Deep-Dive\n",
    "*Load → Clean → Enrich → Analyse → Visualise → Export*\n",
    "---\n",
    "**Datasets**\n",
    "- `dataset - country - final.csv`\n",
    "- `dataset - age-gender - final.csv`\n",
    "\n",
    "**Metrics required**\n",
    "- CPA, Conversion-Rate, ROAS\n",
    "- Segment views: Country, Age, Gender, Age × Gender\n",
    "- Winners / Losers, charts, Excel export"
   ]
  },
  {
   "cell_type": "markdown",
   "id": "1490bed5-cc1d-4e09-9671-b995f8cc7444",
   "metadata": {},
   "source": [
    "1. Imports & global settings"
   ]
  },
  {
   "cell_type": "code",
   "execution_count": 109,
   "id": "316b88f7-8cf5-4237-bf91-b32cecb21e40",
   "metadata": {},
   "outputs": [],
   "source": [
    "import pandas as pd, numpy as np\n",
    "import matplotlib.pyplot as plt, seaborn as sns\n",
    "from IPython.display import display\n",
    "import plotly.express as px\n",
    "import pycountry\n",
    "\n",
    "plt.style.use(\"ggplot\")\n",
    "pd.set_option(\"display.float_format\", \"{:.2f}\".format)"
   ]
  },
  {
   "cell_type": "markdown",
   "id": "5c4ee01b-d7a3-4631-9446-389b4f3f0bf8",
   "metadata": {},
   "source": [
    "2. Load raw files"
   ]
  },
  {
   "cell_type": "code",
   "execution_count": 110,
   "id": "3877ffda-52ee-443e-afc6-25c5b51ebbca",
   "metadata": {},
   "outputs": [
    {
     "name": "stdout",
     "output_type": "stream",
     "text": [
      "(4520, 13) (9600, 14)\n"
     ]
    }
   ],
   "source": [
    "PATH_COUNTRY    = \"dataset/dataset - country - final.csv\"\n",
    "PATH_AGEGENDER  = \"dataset/dataset - age-gender - final.csv\"\n",
    "\n",
    "df_country    = pd.read_csv(PATH_COUNTRY,   sep=\";\")\n",
    "df_agegender  = pd.read_csv(PATH_AGEGENDER, sep=\";\")\n",
    "\n",
    "print(df_country.shape, df_agegender.shape)"
   ]
  },
  {
   "cell_type": "markdown",
   "id": "e9da0898-c412-4a09-a63b-302e3816d986",
   "metadata": {},
   "source": [
    "3. Basic clean-up\n",
    " - remove impossible rows\n",
    " - drop \"unknown\" buckets\n",
    " - standardise column names"
   ]
  },
  {
   "cell_type": "code",
   "execution_count": 111,
   "id": "f7f33b0c-23fd-4051-82be-2b00a336d6ef",
   "metadata": {},
   "outputs": [
    {
     "data": {
      "text/html": [
       "<div>\n",
       "<style scoped>\n",
       "    .dataframe tbody tr th:only-of-type {\n",
       "        vertical-align: middle;\n",
       "    }\n",
       "\n",
       "    .dataframe tbody tr th {\n",
       "        vertical-align: top;\n",
       "    }\n",
       "\n",
       "    .dataframe thead th {\n",
       "        text-align: right;\n",
       "    }\n",
       "</style>\n",
       "<table border=\"1\" class=\"dataframe\">\n",
       "  <thead>\n",
       "    <tr style=\"text-align: right;\">\n",
       "      <th></th>\n",
       "      <th>ad_set_id</th>\n",
       "      <th>country</th>\n",
       "      <th>reach</th>\n",
       "      <th>impressions</th>\n",
       "      <th>frequency</th>\n",
       "      <th>currency</th>\n",
       "      <th>cpm</th>\n",
       "      <th>cpc</th>\n",
       "      <th>ctr</th>\n",
       "      <th>amount_spent_(eur)</th>\n",
       "      <th>purchases</th>\n",
       "      <th>reporting_starts</th>\n",
       "      <th>reporting_ends</th>\n",
       "    </tr>\n",
       "  </thead>\n",
       "  <tbody>\n",
       "    <tr>\n",
       "      <th>0</th>\n",
       "      <td>23854012916660129</td>\n",
       "      <td>US</td>\n",
       "      <td>103527</td>\n",
       "      <td>135941</td>\n",
       "      <td>1.313092598</td>\n",
       "      <td>EUR</td>\n",
       "      <td>25.24</td>\n",
       "      <td>1.66</td>\n",
       "      <td>1.56</td>\n",
       "      <td>4288.79</td>\n",
       "      <td>102</td>\n",
       "      <td>2023-01-01</td>\n",
       "      <td>2023-04-30</td>\n",
       "    </tr>\n",
       "    <tr>\n",
       "      <th>1</th>\n",
       "      <td>23854012916660129</td>\n",
       "      <td>AU</td>\n",
       "      <td>138958</td>\n",
       "      <td>225234</td>\n",
       "      <td>1.620880038</td>\n",
       "      <td>EUR</td>\n",
       "      <td>13.50</td>\n",
       "      <td>1.90</td>\n",
       "      <td>0.89</td>\n",
       "      <td>3801.96</td>\n",
       "      <td>86</td>\n",
       "      <td>2023-01-01</td>\n",
       "      <td>2023-04-30</td>\n",
       "    </tr>\n",
       "    <tr>\n",
       "      <th>2</th>\n",
       "      <td>23854012916660129</td>\n",
       "      <td>CA</td>\n",
       "      <td>145614</td>\n",
       "      <td>219786</td>\n",
       "      <td>1.509375498</td>\n",
       "      <td>EUR</td>\n",
       "      <td>12.00</td>\n",
       "      <td>1.38</td>\n",
       "      <td>1.05</td>\n",
       "      <td>3297.31</td>\n",
       "      <td>74</td>\n",
       "      <td>2023-01-01</td>\n",
       "      <td>2023-04-30</td>\n",
       "    </tr>\n",
       "  </tbody>\n",
       "</table>\n",
       "</div>"
      ],
      "text/plain": [
       "           ad_set_id country   reach  impressions    frequency currency   cpm  \\\n",
       "0  23854012916660129      US  103527       135941  1.313092598      EUR 25.24   \n",
       "1  23854012916660129      AU  138958       225234  1.620880038      EUR 13.50   \n",
       "2  23854012916660129      CA  145614       219786  1.509375498      EUR 12.00   \n",
       "\n",
       "   cpc  ctr  amount_spent_(eur)  purchases reporting_starts reporting_ends  \n",
       "0 1.66 1.56             4288.79        102       2023-01-01     2023-04-30  \n",
       "1 1.90 0.89             3801.96         86       2023-01-01     2023-04-30  \n",
       "2 1.38 1.05             3297.31         74       2023-01-01     2023-04-30  "
      ]
     },
     "metadata": {},
     "output_type": "display_data"
    },
    {
     "data": {
      "text/html": [
       "<div>\n",
       "<style scoped>\n",
       "    .dataframe tbody tr th:only-of-type {\n",
       "        vertical-align: middle;\n",
       "    }\n",
       "\n",
       "    .dataframe tbody tr th {\n",
       "        vertical-align: top;\n",
       "    }\n",
       "\n",
       "    .dataframe thead th {\n",
       "        text-align: right;\n",
       "    }\n",
       "</style>\n",
       "<table border=\"1\" class=\"dataframe\">\n",
       "  <thead>\n",
       "    <tr style=\"text-align: right;\">\n",
       "      <th></th>\n",
       "      <th>ad_set_id</th>\n",
       "      <th>age</th>\n",
       "      <th>gender</th>\n",
       "      <th>reach</th>\n",
       "      <th>impressions</th>\n",
       "      <th>frequency</th>\n",
       "      <th>currency</th>\n",
       "      <th>cpm</th>\n",
       "      <th>cpc</th>\n",
       "      <th>ctr</th>\n",
       "      <th>amount_spent_(eur)</th>\n",
       "      <th>purchases</th>\n",
       "      <th>reporting_starts</th>\n",
       "      <th>reporting_ends</th>\n",
       "    </tr>\n",
       "  </thead>\n",
       "  <tbody>\n",
       "    <tr>\n",
       "      <th>0</th>\n",
       "      <td>23854308274520129</td>\n",
       "      <td>18-24</td>\n",
       "      <td>male</td>\n",
       "      <td>101990</td>\n",
       "      <td>208848</td>\n",
       "      <td>2.047722139</td>\n",
       "      <td>EUR</td>\n",
       "      <td>11.94</td>\n",
       "      <td>1.48</td>\n",
       "      <td>0.93</td>\n",
       "      <td>3116.60</td>\n",
       "      <td>102</td>\n",
       "      <td>2023-01-01</td>\n",
       "      <td>2023-04-30</td>\n",
       "    </tr>\n",
       "    <tr>\n",
       "      <th>1</th>\n",
       "      <td>23853954814850129</td>\n",
       "      <td>18-24</td>\n",
       "      <td>female</td>\n",
       "      <td>107263</td>\n",
       "      <td>173479</td>\n",
       "      <td>1.617322623</td>\n",
       "      <td>EUR</td>\n",
       "      <td>14.22</td>\n",
       "      <td>1.97</td>\n",
       "      <td>0.73</td>\n",
       "      <td>3084.24</td>\n",
       "      <td>77</td>\n",
       "      <td>2023-01-01</td>\n",
       "      <td>2023-04-30</td>\n",
       "    </tr>\n",
       "    <tr>\n",
       "      <th>2</th>\n",
       "      <td>23854012916660129</td>\n",
       "      <td>18-24</td>\n",
       "      <td>male</td>\n",
       "      <td>124314</td>\n",
       "      <td>187940</td>\n",
       "      <td>1.511811986</td>\n",
       "      <td>EUR</td>\n",
       "      <td>12.74</td>\n",
       "      <td>1.75</td>\n",
       "      <td>0.87</td>\n",
       "      <td>2992.86</td>\n",
       "      <td>74</td>\n",
       "      <td>2023-01-01</td>\n",
       "      <td>2023-04-30</td>\n",
       "    </tr>\n",
       "  </tbody>\n",
       "</table>\n",
       "</div>"
      ],
      "text/plain": [
       "           ad_set_id    age  gender   reach  impressions    frequency  \\\n",
       "0  23854308274520129  18-24    male  101990       208848  2.047722139   \n",
       "1  23853954814850129  18-24  female  107263       173479  1.617322623   \n",
       "2  23854012916660129  18-24    male  124314       187940  1.511811986   \n",
       "\n",
       "  currency   cpm  cpc  ctr  amount_spent_(eur)  purchases reporting_starts  \\\n",
       "0      EUR 11.94 1.48 0.93             3116.60        102       2023-01-01   \n",
       "1      EUR 14.22 1.97 0.73             3084.24         77       2023-01-01   \n",
       "2      EUR 12.74 1.75 0.87             2992.86         74       2023-01-01   \n",
       "\n",
       "  reporting_ends  \n",
       "0     2023-04-30  \n",
       "1     2023-04-30  \n",
       "2     2023-04-30  "
      ]
     },
     "metadata": {},
     "output_type": "display_data"
    }
   ],
   "source": [
    "def basic_clean(df, bad_reach=True, unk_col=None):\n",
    "    if bad_reach:                       # impressions > 0 but reach == 0\n",
    "        df = df.loc[~((df.reach == 0) & (df.impressions > 0))].copy()\n",
    "    if unk_col is not None:             # drop unknowns\n",
    "        df = df[df[unk_col] != \"unknown\"].copy()\n",
    "    df.columns = df.columns.str.lower().str.replace(\" \", \"_\")\n",
    "    return df\n",
    "\n",
    "df_country   = basic_clean(df_country,  unk_col=\"Country\")\n",
    "df_agegender = basic_clean(df_agegender,unk_col=\"Gender\")\n",
    "\n",
    "display(df_country.head(3))\n",
    "display(df_agegender.head(3))\n",
    "\n",
    "# Filter out segments with less than 5 purchases to avoid distorted CPA\n",
    "df_country = df_country[df_country['purchases'] >= 5]\n",
    "df_agegender = df_agegender[df_agegender['purchases'] >= 5]"
   ]
  },
  {
   "cell_type": "markdown",
   "id": "dbbca508-044c-458f-aa3f-679aab52021b",
   "metadata": {},
   "source": [
    "4. Metric enrichment  (Clicks, CPA, Conv-Rate, ROAS)"
   ]
  },
  {
   "cell_type": "code",
   "execution_count": 112,
   "id": "82a919ef-20a6-45ba-89ca-62cf6dd1aa84",
   "metadata": {},
   "outputs": [
    {
     "data": {
      "text/html": [
       "<div>\n",
       "<style scoped>\n",
       "    .dataframe tbody tr th:only-of-type {\n",
       "        vertical-align: middle;\n",
       "    }\n",
       "\n",
       "    .dataframe tbody tr th {\n",
       "        vertical-align: top;\n",
       "    }\n",
       "\n",
       "    .dataframe thead th {\n",
       "        text-align: right;\n",
       "    }\n",
       "</style>\n",
       "<table border=\"1\" class=\"dataframe\">\n",
       "  <thead>\n",
       "    <tr style=\"text-align: right;\">\n",
       "      <th></th>\n",
       "      <th>reach</th>\n",
       "      <th>impressions</th>\n",
       "      <th>amount_spent_(eur)</th>\n",
       "      <th>purchases</th>\n",
       "      <th>cpa</th>\n",
       "      <th>roas</th>\n",
       "    </tr>\n",
       "  </thead>\n",
       "  <tbody>\n",
       "    <tr>\n",
       "      <th>0</th>\n",
       "      <td>103527</td>\n",
       "      <td>135941</td>\n",
       "      <td>4288.79</td>\n",
       "      <td>102</td>\n",
       "      <td>42.05</td>\n",
       "      <td>0.71</td>\n",
       "    </tr>\n",
       "    <tr>\n",
       "      <th>1</th>\n",
       "      <td>138958</td>\n",
       "      <td>225234</td>\n",
       "      <td>3801.96</td>\n",
       "      <td>86</td>\n",
       "      <td>44.21</td>\n",
       "      <td>0.68</td>\n",
       "    </tr>\n",
       "    <tr>\n",
       "      <th>2</th>\n",
       "      <td>145614</td>\n",
       "      <td>219786</td>\n",
       "      <td>3297.31</td>\n",
       "      <td>74</td>\n",
       "      <td>44.56</td>\n",
       "      <td>0.67</td>\n",
       "    </tr>\n",
       "    <tr>\n",
       "      <th>3</th>\n",
       "      <td>97792</td>\n",
       "      <td>186035</td>\n",
       "      <td>3209.02</td>\n",
       "      <td>76</td>\n",
       "      <td>42.22</td>\n",
       "      <td>0.71</td>\n",
       "    </tr>\n",
       "    <tr>\n",
       "      <th>4</th>\n",
       "      <td>56730</td>\n",
       "      <td>76834</td>\n",
       "      <td>3170.82</td>\n",
       "      <td>58</td>\n",
       "      <td>54.67</td>\n",
       "      <td>0.55</td>\n",
       "    </tr>\n",
       "  </tbody>\n",
       "</table>\n",
       "</div>"
      ],
      "text/plain": [
       "    reach  impressions  amount_spent_(eur)  purchases   cpa  roas\n",
       "0  103527       135941             4288.79        102 42.05  0.71\n",
       "1  138958       225234             3801.96         86 44.21  0.68\n",
       "2  145614       219786             3297.31         74 44.56  0.67\n",
       "3   97792       186035             3209.02         76 42.22  0.71\n",
       "4   56730        76834             3170.82         58 54.67  0.55"
      ]
     },
     "metadata": {},
     "output_type": "display_data"
    }
   ],
   "source": [
    "AVG_ORDER_VALUE = 30             # € -- replace if you have real revenue numbers\n",
    "\n",
    "def enrich(df):\n",
    "    df[\"clicks\"]     = df.impressions * (df.ctr / 100)\n",
    "    df[\"cpa\"]        = np.where(df.purchases>0, df['amount_spent_(eur)']/df.purchases, np.nan)\n",
    "    df[\"conv_rate\"]  = np.where(df.clicks>0,    df.purchases/df.clicks,            np.nan)\n",
    "    df[\"revenue_eur\"]= df.purchases * AVG_ORDER_VALUE\n",
    "    df[\"roas\"]       = np.where(df['amount_spent_(eur)']>0, df.revenue_eur/df['amount_spent_(eur)'], np.nan)\n",
    "\n",
    "for _df in (df_country, df_agegender):\n",
    "    enrich(_df)\n",
    "\n",
    "\n",
    "# sanity peek\n",
    "display(df_country[[\"reach\",\"impressions\",\"amount_spent_(eur)\",\"purchases\",\"cpa\",\"roas\"]].head())\n"
   ]
  },
  {
   "cell_type": "markdown",
   "id": "17ec5689-73c9-4beb-9ed6-6491ce454cb0",
   "metadata": {},
   "source": [
    "5. Robust aggregation helper"
   ]
  },
  {
   "cell_type": "code",
   "execution_count": 113,
   "id": "01f17caf-abd4-4719-875b-6a74b9085eb6",
   "metadata": {},
   "outputs": [
    {
     "name": "stdout",
     "output_type": "stream",
     "text": [
      "-1.9578739720655634\n",
      "-1.4254481499276892\n"
     ]
    }
   ],
   "source": [
    "print(df_country.cpa.median() - df_country.cpa.mean())\n",
    "print(df_agegender.cpa.median() - df_agegender.cpa.mean())\n"
   ]
  },
  {
   "cell_type": "code",
   "execution_count": 114,
   "id": "c2b9ca5c-1a6a-4f27-bd01-2d8d3353ce40",
   "metadata": {},
   "outputs": [],
   "source": [
    "def build_perf(df, by, sort_metric=\"cpa\", asc=True, use_median=False):\n",
    "    # Group and aggregate the data\n",
    "    g = (df.groupby(by, as_index=False)\n",
    "            .agg(reach=(\"reach\",\"sum\"),\n",
    "                 impressions=(\"impressions\",\"sum\"),\n",
    "                 spend=(\"amount_spent_(eur)\",\"sum\"),\n",
    "                 purchases=(\"purchases\",\"sum\"),\n",
    "                 clicks=(\"clicks\",\"sum\"),\n",
    "                 revenue=(\"revenue_eur\",\"sum\"))\n",
    "        )\n",
    "    \n",
    "    # Use median for CPA and ROAS if flag is True, else default to mean\n",
    "    if use_median:\n",
    "        g['cpa']   = np.where(g.purchases>0, g.spend/g.purchases, np.nan)\n",
    "        g['conv']  = np.where(g.clicks>0,    g.purchases/g.clicks, np.nan)\n",
    "        g['roas']  = np.where(g.spend>0,     g.revenue/g.spend,   np.nan)\n",
    "    else:\n",
    "        g['cpa']   = np.where(g.purchases>0, g.spend/g.purchases, np.nan)\n",
    "        g['conv']  = np.where(g.clicks>0,    g.purchases/g.clicks, np.nan)\n",
    "        g['roas']  = np.where(g.spend>0,     g.revenue/g.spend,   np.nan)\n",
    "    \n",
    "    return g.sort_values(sort_metric, ascending=asc).reset_index(drop=True)\n",
    "\n",
    "# Use mean or median based on the skewness of the distribution\n",
    "use_median = True if df_country.cpa.median() - df_country.cpa.mean() > 0 else False\n",
    "\n",
    "country_perf = build_perf(df_country, [\"country\"], use_median=False)\n",
    "age_gender_perf = build_perf(df_agegender, [\"age\", \"gender\"], use_median=False)"
   ]
  },
  {
   "cell_type": "markdown",
   "id": "ee93160a-13f8-410d-8f71-e1338169968c",
   "metadata": {},
   "source": [
    "6. Winners & losers  (top/bottom CPA)"
   ]
  },
  {
   "cell_type": "code",
   "execution_count": 115,
   "id": "3a332464-df6b-4509-a5ff-3dd6894be035",
   "metadata": {},
   "outputs": [
    {
     "name": "stdout",
     "output_type": "stream",
     "text": [
      "\n",
      "Top 10 cheapest CPA – Country\n"
     ]
    },
    {
     "data": {
      "text/html": [
       "<div>\n",
       "<style scoped>\n",
       "    .dataframe tbody tr th:only-of-type {\n",
       "        vertical-align: middle;\n",
       "    }\n",
       "\n",
       "    .dataframe tbody tr th {\n",
       "        vertical-align: top;\n",
       "    }\n",
       "\n",
       "    .dataframe thead th {\n",
       "        text-align: right;\n",
       "    }\n",
       "</style>\n",
       "<table border=\"1\" class=\"dataframe\">\n",
       "  <thead>\n",
       "    <tr style=\"text-align: right;\">\n",
       "      <th></th>\n",
       "      <th>country</th>\n",
       "      <th>reach</th>\n",
       "      <th>spend</th>\n",
       "      <th>purchases</th>\n",
       "      <th>cpa</th>\n",
       "      <th>roas</th>\n",
       "    </tr>\n",
       "  </thead>\n",
       "  <tbody>\n",
       "    <tr>\n",
       "      <th>0</th>\n",
       "      <td>JM</td>\n",
       "      <td>15770</td>\n",
       "      <td>61.50</td>\n",
       "      <td>5</td>\n",
       "      <td>12.30</td>\n",
       "      <td>2.44</td>\n",
       "    </tr>\n",
       "    <tr>\n",
       "      <th>1</th>\n",
       "      <td>MY</td>\n",
       "      <td>14541</td>\n",
       "      <td>106.68</td>\n",
       "      <td>5</td>\n",
       "      <td>21.34</td>\n",
       "      <td>1.41</td>\n",
       "    </tr>\n",
       "    <tr>\n",
       "      <th>2</th>\n",
       "      <td>SA</td>\n",
       "      <td>2758</td>\n",
       "      <td>164.12</td>\n",
       "      <td>6</td>\n",
       "      <td>27.35</td>\n",
       "      <td>1.10</td>\n",
       "    </tr>\n",
       "    <tr>\n",
       "      <th>3</th>\n",
       "      <td>NZ</td>\n",
       "      <td>515676</td>\n",
       "      <td>12722.70</td>\n",
       "      <td>342</td>\n",
       "      <td>37.20</td>\n",
       "      <td>0.81</td>\n",
       "    </tr>\n",
       "    <tr>\n",
       "      <th>4</th>\n",
       "      <td>CA</td>\n",
       "      <td>1564800</td>\n",
       "      <td>42058.92</td>\n",
       "      <td>986</td>\n",
       "      <td>42.66</td>\n",
       "      <td>0.70</td>\n",
       "    </tr>\n",
       "    <tr>\n",
       "      <th>5</th>\n",
       "      <td>AU</td>\n",
       "      <td>1689326</td>\n",
       "      <td>52076.15</td>\n",
       "      <td>1107</td>\n",
       "      <td>47.04</td>\n",
       "      <td>0.64</td>\n",
       "    </tr>\n",
       "    <tr>\n",
       "      <th>6</th>\n",
       "      <td>GB</td>\n",
       "      <td>220269</td>\n",
       "      <td>7705.90</td>\n",
       "      <td>146</td>\n",
       "      <td>52.78</td>\n",
       "      <td>0.57</td>\n",
       "    </tr>\n",
       "    <tr>\n",
       "      <th>7</th>\n",
       "      <td>US</td>\n",
       "      <td>2688148</td>\n",
       "      <td>124747.75</td>\n",
       "      <td>2332</td>\n",
       "      <td>53.49</td>\n",
       "      <td>0.56</td>\n",
       "    </tr>\n",
       "  </tbody>\n",
       "</table>\n",
       "</div>"
      ],
      "text/plain": [
       "  country    reach     spend  purchases   cpa  roas\n",
       "0      JM    15770     61.50          5 12.30  2.44\n",
       "1      MY    14541    106.68          5 21.34  1.41\n",
       "2      SA     2758    164.12          6 27.35  1.10\n",
       "3      NZ   515676  12722.70        342 37.20  0.81\n",
       "4      CA  1564800  42058.92        986 42.66  0.70\n",
       "5      AU  1689326  52076.15       1107 47.04  0.64\n",
       "6      GB   220269   7705.90        146 52.78  0.57\n",
       "7      US  2688148 124747.75       2332 53.49  0.56"
      ]
     },
     "metadata": {},
     "output_type": "display_data"
    },
    {
     "name": "stdout",
     "output_type": "stream",
     "text": [
      "Bottom 10 most expensive CPA – Country\n"
     ]
    },
    {
     "data": {
      "text/html": [
       "<div>\n",
       "<style scoped>\n",
       "    .dataframe tbody tr th:only-of-type {\n",
       "        vertical-align: middle;\n",
       "    }\n",
       "\n",
       "    .dataframe tbody tr th {\n",
       "        vertical-align: top;\n",
       "    }\n",
       "\n",
       "    .dataframe thead th {\n",
       "        text-align: right;\n",
       "    }\n",
       "</style>\n",
       "<table border=\"1\" class=\"dataframe\">\n",
       "  <thead>\n",
       "    <tr style=\"text-align: right;\">\n",
       "      <th></th>\n",
       "      <th>country</th>\n",
       "      <th>reach</th>\n",
       "      <th>spend</th>\n",
       "      <th>purchases</th>\n",
       "      <th>cpa</th>\n",
       "      <th>roas</th>\n",
       "    </tr>\n",
       "  </thead>\n",
       "  <tbody>\n",
       "    <tr>\n",
       "      <th>7</th>\n",
       "      <td>US</td>\n",
       "      <td>2688148</td>\n",
       "      <td>124747.75</td>\n",
       "      <td>2332</td>\n",
       "      <td>53.49</td>\n",
       "      <td>0.56</td>\n",
       "    </tr>\n",
       "    <tr>\n",
       "      <th>6</th>\n",
       "      <td>GB</td>\n",
       "      <td>220269</td>\n",
       "      <td>7705.90</td>\n",
       "      <td>146</td>\n",
       "      <td>52.78</td>\n",
       "      <td>0.57</td>\n",
       "    </tr>\n",
       "    <tr>\n",
       "      <th>5</th>\n",
       "      <td>AU</td>\n",
       "      <td>1689326</td>\n",
       "      <td>52076.15</td>\n",
       "      <td>1107</td>\n",
       "      <td>47.04</td>\n",
       "      <td>0.64</td>\n",
       "    </tr>\n",
       "    <tr>\n",
       "      <th>4</th>\n",
       "      <td>CA</td>\n",
       "      <td>1564800</td>\n",
       "      <td>42058.92</td>\n",
       "      <td>986</td>\n",
       "      <td>42.66</td>\n",
       "      <td>0.70</td>\n",
       "    </tr>\n",
       "    <tr>\n",
       "      <th>3</th>\n",
       "      <td>NZ</td>\n",
       "      <td>515676</td>\n",
       "      <td>12722.70</td>\n",
       "      <td>342</td>\n",
       "      <td>37.20</td>\n",
       "      <td>0.81</td>\n",
       "    </tr>\n",
       "    <tr>\n",
       "      <th>2</th>\n",
       "      <td>SA</td>\n",
       "      <td>2758</td>\n",
       "      <td>164.12</td>\n",
       "      <td>6</td>\n",
       "      <td>27.35</td>\n",
       "      <td>1.10</td>\n",
       "    </tr>\n",
       "    <tr>\n",
       "      <th>1</th>\n",
       "      <td>MY</td>\n",
       "      <td>14541</td>\n",
       "      <td>106.68</td>\n",
       "      <td>5</td>\n",
       "      <td>21.34</td>\n",
       "      <td>1.41</td>\n",
       "    </tr>\n",
       "    <tr>\n",
       "      <th>0</th>\n",
       "      <td>JM</td>\n",
       "      <td>15770</td>\n",
       "      <td>61.50</td>\n",
       "      <td>5</td>\n",
       "      <td>12.30</td>\n",
       "      <td>2.44</td>\n",
       "    </tr>\n",
       "  </tbody>\n",
       "</table>\n",
       "</div>"
      ],
      "text/plain": [
       "  country    reach     spend  purchases   cpa  roas\n",
       "7      US  2688148 124747.75       2332 53.49  0.56\n",
       "6      GB   220269   7705.90        146 52.78  0.57\n",
       "5      AU  1689326  52076.15       1107 47.04  0.64\n",
       "4      CA  1564800  42058.92        986 42.66  0.70\n",
       "3      NZ   515676  12722.70        342 37.20  0.81\n",
       "2      SA     2758    164.12          6 27.35  1.10\n",
       "1      MY    14541    106.68          5 21.34  1.41\n",
       "0      JM    15770     61.50          5 12.30  2.44"
      ]
     },
     "metadata": {},
     "output_type": "display_data"
    },
    {
     "name": "stdout",
     "output_type": "stream",
     "text": [
      "\n",
      "Top 10 cheapest CPA – Age × Gender\n"
     ]
    },
    {
     "data": {
      "text/html": [
       "<div>\n",
       "<style scoped>\n",
       "    .dataframe tbody tr th:only-of-type {\n",
       "        vertical-align: middle;\n",
       "    }\n",
       "\n",
       "    .dataframe tbody tr th {\n",
       "        vertical-align: top;\n",
       "    }\n",
       "\n",
       "    .dataframe thead th {\n",
       "        text-align: right;\n",
       "    }\n",
       "</style>\n",
       "<table border=\"1\" class=\"dataframe\">\n",
       "  <thead>\n",
       "    <tr style=\"text-align: right;\">\n",
       "      <th></th>\n",
       "      <th>age</th>\n",
       "      <th>gender</th>\n",
       "      <th>spend</th>\n",
       "      <th>purchases</th>\n",
       "      <th>cpa</th>\n",
       "      <th>roas</th>\n",
       "    </tr>\n",
       "  </thead>\n",
       "  <tbody>\n",
       "    <tr>\n",
       "      <th>0</th>\n",
       "      <td>65</td>\n",
       "      <td>male</td>\n",
       "      <td>294.75</td>\n",
       "      <td>11</td>\n",
       "      <td>26.80</td>\n",
       "      <td>1.12</td>\n",
       "    </tr>\n",
       "    <tr>\n",
       "      <th>1</th>\n",
       "      <td>55-64</td>\n",
       "      <td>male</td>\n",
       "      <td>3403.62</td>\n",
       "      <td>99</td>\n",
       "      <td>34.38</td>\n",
       "      <td>0.87</td>\n",
       "    </tr>\n",
       "    <tr>\n",
       "      <th>2</th>\n",
       "      <td>55-64</td>\n",
       "      <td>female</td>\n",
       "      <td>2538.58</td>\n",
       "      <td>71</td>\n",
       "      <td>35.75</td>\n",
       "      <td>0.84</td>\n",
       "    </tr>\n",
       "    <tr>\n",
       "      <th>3</th>\n",
       "      <td>45-54</td>\n",
       "      <td>male</td>\n",
       "      <td>9992.16</td>\n",
       "      <td>263</td>\n",
       "      <td>37.99</td>\n",
       "      <td>0.79</td>\n",
       "    </tr>\n",
       "    <tr>\n",
       "      <th>4</th>\n",
       "      <td>45-54</td>\n",
       "      <td>female</td>\n",
       "      <td>10411.36</td>\n",
       "      <td>268</td>\n",
       "      <td>38.85</td>\n",
       "      <td>0.77</td>\n",
       "    </tr>\n",
       "    <tr>\n",
       "      <th>5</th>\n",
       "      <td>18-24</td>\n",
       "      <td>male</td>\n",
       "      <td>19184.01</td>\n",
       "      <td>466</td>\n",
       "      <td>41.17</td>\n",
       "      <td>0.73</td>\n",
       "    </tr>\n",
       "    <tr>\n",
       "      <th>6</th>\n",
       "      <td>35-44</td>\n",
       "      <td>male</td>\n",
       "      <td>19532.11</td>\n",
       "      <td>456</td>\n",
       "      <td>42.83</td>\n",
       "      <td>0.70</td>\n",
       "    </tr>\n",
       "    <tr>\n",
       "      <th>7</th>\n",
       "      <td>18-24</td>\n",
       "      <td>female</td>\n",
       "      <td>12118.26</td>\n",
       "      <td>270</td>\n",
       "      <td>44.88</td>\n",
       "      <td>0.67</td>\n",
       "    </tr>\n",
       "    <tr>\n",
       "      <th>8</th>\n",
       "      <td>35-44</td>\n",
       "      <td>female</td>\n",
       "      <td>18670.56</td>\n",
       "      <td>411</td>\n",
       "      <td>45.43</td>\n",
       "      <td>0.66</td>\n",
       "    </tr>\n",
       "    <tr>\n",
       "      <th>9</th>\n",
       "      <td>25-34</td>\n",
       "      <td>female</td>\n",
       "      <td>22778.73</td>\n",
       "      <td>493</td>\n",
       "      <td>46.20</td>\n",
       "      <td>0.65</td>\n",
       "    </tr>\n",
       "  </tbody>\n",
       "</table>\n",
       "</div>"
      ],
      "text/plain": [
       "     age  gender    spend  purchases   cpa  roas\n",
       "0     65    male   294.75         11 26.80  1.12\n",
       "1  55-64    male  3403.62         99 34.38  0.87\n",
       "2  55-64  female  2538.58         71 35.75  0.84\n",
       "3  45-54    male  9992.16        263 37.99  0.79\n",
       "4  45-54  female 10411.36        268 38.85  0.77\n",
       "5  18-24    male 19184.01        466 41.17  0.73\n",
       "6  35-44    male 19532.11        456 42.83  0.70\n",
       "7  18-24  female 12118.26        270 44.88  0.67\n",
       "8  35-44  female 18670.56        411 45.43  0.66\n",
       "9  25-34  female 22778.73        493 46.20  0.65"
      ]
     },
     "metadata": {},
     "output_type": "display_data"
    },
    {
     "name": "stdout",
     "output_type": "stream",
     "text": [
      "Bottom 10 most expensive CPA – Age × Gender\n"
     ]
    },
    {
     "data": {
      "text/html": [
       "<div>\n",
       "<style scoped>\n",
       "    .dataframe tbody tr th:only-of-type {\n",
       "        vertical-align: middle;\n",
       "    }\n",
       "\n",
       "    .dataframe tbody tr th {\n",
       "        vertical-align: top;\n",
       "    }\n",
       "\n",
       "    .dataframe thead th {\n",
       "        text-align: right;\n",
       "    }\n",
       "</style>\n",
       "<table border=\"1\" class=\"dataframe\">\n",
       "  <thead>\n",
       "    <tr style=\"text-align: right;\">\n",
       "      <th></th>\n",
       "      <th>age</th>\n",
       "      <th>gender</th>\n",
       "      <th>spend</th>\n",
       "      <th>purchases</th>\n",
       "      <th>cpa</th>\n",
       "      <th>roas</th>\n",
       "    </tr>\n",
       "  </thead>\n",
       "  <tbody>\n",
       "    <tr>\n",
       "      <th>10</th>\n",
       "      <td>25-34</td>\n",
       "      <td>male</td>\n",
       "      <td>26238.59</td>\n",
       "      <td>562</td>\n",
       "      <td>46.69</td>\n",
       "      <td>0.64</td>\n",
       "    </tr>\n",
       "    <tr>\n",
       "      <th>9</th>\n",
       "      <td>25-34</td>\n",
       "      <td>female</td>\n",
       "      <td>22778.73</td>\n",
       "      <td>493</td>\n",
       "      <td>46.20</td>\n",
       "      <td>0.65</td>\n",
       "    </tr>\n",
       "    <tr>\n",
       "      <th>8</th>\n",
       "      <td>35-44</td>\n",
       "      <td>female</td>\n",
       "      <td>18670.56</td>\n",
       "      <td>411</td>\n",
       "      <td>45.43</td>\n",
       "      <td>0.66</td>\n",
       "    </tr>\n",
       "    <tr>\n",
       "      <th>7</th>\n",
       "      <td>18-24</td>\n",
       "      <td>female</td>\n",
       "      <td>12118.26</td>\n",
       "      <td>270</td>\n",
       "      <td>44.88</td>\n",
       "      <td>0.67</td>\n",
       "    </tr>\n",
       "    <tr>\n",
       "      <th>6</th>\n",
       "      <td>35-44</td>\n",
       "      <td>male</td>\n",
       "      <td>19532.11</td>\n",
       "      <td>456</td>\n",
       "      <td>42.83</td>\n",
       "      <td>0.70</td>\n",
       "    </tr>\n",
       "    <tr>\n",
       "      <th>5</th>\n",
       "      <td>18-24</td>\n",
       "      <td>male</td>\n",
       "      <td>19184.01</td>\n",
       "      <td>466</td>\n",
       "      <td>41.17</td>\n",
       "      <td>0.73</td>\n",
       "    </tr>\n",
       "    <tr>\n",
       "      <th>4</th>\n",
       "      <td>45-54</td>\n",
       "      <td>female</td>\n",
       "      <td>10411.36</td>\n",
       "      <td>268</td>\n",
       "      <td>38.85</td>\n",
       "      <td>0.77</td>\n",
       "    </tr>\n",
       "    <tr>\n",
       "      <th>3</th>\n",
       "      <td>45-54</td>\n",
       "      <td>male</td>\n",
       "      <td>9992.16</td>\n",
       "      <td>263</td>\n",
       "      <td>37.99</td>\n",
       "      <td>0.79</td>\n",
       "    </tr>\n",
       "    <tr>\n",
       "      <th>2</th>\n",
       "      <td>55-64</td>\n",
       "      <td>female</td>\n",
       "      <td>2538.58</td>\n",
       "      <td>71</td>\n",
       "      <td>35.75</td>\n",
       "      <td>0.84</td>\n",
       "    </tr>\n",
       "    <tr>\n",
       "      <th>1</th>\n",
       "      <td>55-64</td>\n",
       "      <td>male</td>\n",
       "      <td>3403.62</td>\n",
       "      <td>99</td>\n",
       "      <td>34.38</td>\n",
       "      <td>0.87</td>\n",
       "    </tr>\n",
       "  </tbody>\n",
       "</table>\n",
       "</div>"
      ],
      "text/plain": [
       "      age  gender    spend  purchases   cpa  roas\n",
       "10  25-34    male 26238.59        562 46.69  0.64\n",
       "9   25-34  female 22778.73        493 46.20  0.65\n",
       "8   35-44  female 18670.56        411 45.43  0.66\n",
       "7   18-24  female 12118.26        270 44.88  0.67\n",
       "6   35-44    male 19532.11        456 42.83  0.70\n",
       "5   18-24    male 19184.01        466 41.17  0.73\n",
       "4   45-54  female 10411.36        268 38.85  0.77\n",
       "3   45-54    male  9992.16        263 37.99  0.79\n",
       "2   55-64  female  2538.58         71 35.75  0.84\n",
       "1   55-64    male  3403.62         99 34.38  0.87"
      ]
     },
     "metadata": {},
     "output_type": "display_data"
    }
   ],
   "source": [
    "TOP_N = 10\n",
    "def winners_losers(df, seg_name):\n",
    "    winners = df.nsmallest(TOP_N, \"cpa\")[df.columns[:2].tolist() + [\"spend\", \"purchases\", \"cpa\",\"roas\"]]\n",
    "    losers  = df.nlargest (TOP_N, \"cpa\")[df.columns[:2].tolist() + [\"spend\", \"purchases\", \"cpa\",\"roas\"]]\n",
    "    print(f\"\\nTop {TOP_N} cheapest CPA – {seg_name}\")\n",
    "    display(winners)\n",
    "    print(f\"Bottom {TOP_N} most expensive CPA – {seg_name}\")\n",
    "    display(losers)\n",
    "\n",
    "winners_losers(country_perf, \"Country\")\n",
    "winners_losers(age_gender_perf, \"Age × Gender\")"
   ]
  },
  {
   "cell_type": "markdown",
   "id": "9b83954f-6c5e-44cd-bbf4-593d53a4ce64",
   "metadata": {},
   "source": [
    "7. Visual helper – legend by hue"
   ]
  },
  {
   "cell_type": "code",
   "execution_count": 116,
   "id": "d1acf5b5-dc14-4273-af4a-55ba1fcb98c4",
   "metadata": {},
   "outputs": [
    {
     "data": {
      "image/png": "[encoded data removed]",
      "text/plain": [
       "<Figure size 640x480 with 1 Axes>"
      ]
     },
     "metadata": {},
     "output_type": "display_data"
    }
   ],
   "source": [
    "def barh_perf(df, metric, title, n=10, asc=True, hue=None):\n",
    "    subset = df.sort_values(metric, ascending=asc).head(n)\n",
    "    if hue and hue in subset.columns:\n",
    "        ax = sns.barplot(\n",
    "            data=subset,\n",
    "            x=metric, y=subset.columns[0], hue=hue,\n",
    "            orient=\"h\",\n",
    "            palette='dark:#4E79A7'\n",
    "            # color='#4E79A7'\n",
    "        )\n",
    "        ax.legend(title=hue.capitalize())\n",
    "    else:\n",
    "        subset.plot(kind=\"barh\", x=subset.columns[0], y=metric, figsize=(8,4), legend=False)\n",
    "    plt.title(title); plt.xlabel(metric.upper()); plt.ylabel(\"\")\n",
    "    plt.tight_layout(); plt.show()\n",
    "\n",
    "# CPA by age-gender\n",
    "barh_perf(age_gender_perf, metric=\"cpa\",\n",
    "          title=\"CPA by Age–Gender – Cheapest first\",\n",
    "          n=15, hue=\"gender\")\n"
   ]
  },
  {
   "cell_type": "code",
   "execution_count": 117,
   "id": "b0bc885a-4a4a-4858-9499-fda77bab233e",
   "metadata": {},
   "outputs": [
    {
     "name": "stderr",
     "output_type": "stream",
     "text": [
      "C:\\Users\\d-beg\\AppData\\Local\\Temp\\ipykernel_26972\\1479637651.py:11: UserWarning:\n",
      "\n",
      "No artists with labels found to put in legend.  Note that artists whose label start with an underscore are ignored when legend() is called with no argument.\n",
      "\n"
     ]
    },
    {
     "data": {
      "image/png": "[encoded data removed]",
      "text/plain": [
       "<Figure size 640x480 with 1 Axes>"
      ]
     },
     "metadata": {},
     "output_type": "display_data"
    }
   ],
   "source": [
    "# CPA by country\n",
    "barh_perf(country_perf, metric=\"cpa\",\n",
    "          title=\"CPA by country – Cheapest first\",\n",
    "          n=15, hue=\"country\")"
   ]
  },
  {
   "cell_type": "markdown",
   "id": "3744658c-173a-44a9-a7c4-d78b57b4ce04",
   "metadata": {},
   "source": [
    "8. Volume vs efficiency scatter"
   ]
  },
  {
   "cell_type": "code",
   "execution_count": 118,
   "id": "7ba4af20-6b38-4e29-851b-cde31ca91a0e",
   "metadata": {},
   "outputs": [
    {
     "data": {
      "image/png": "[encoded data removed]",
      "text/plain": [
       "<Figure size 640x480 with 1 Axes>"
      ]
     },
     "metadata": {},
     "output_type": "display_data"
    }
   ],
   "source": [
    "sns.scatterplot(data=country_perf, x=\"spend\", y=\"cpa\", size=\"reach\", legend=False)\n",
    "plt.xscale(\"log\"); plt.title(\"Spend vs CPA (bubble=size reach)\"); plt.tight_layout(); plt.show()"
   ]
  },
  {
   "cell_type": "markdown",
   "id": "2c35a6eb-fdb9-4534-bc22-69f3cebe4afc",
   "metadata": {},
   "source": [
    "9. Outlier detection  (z-score on CPA)"
   ]
  },
  {
   "cell_type": "code",
   "execution_count": 119,
   "id": "4b4fbf6c-3cf0-430e-9453-fba1a8b44219",
   "metadata": {},
   "outputs": [
    {
     "name": "stdout",
     "output_type": "stream",
     "text": [
      "Segments with CPA more than 2σ above mean:\n"
     ]
    },
    {
     "data": {
      "text/html": [
       "<div>\n",
       "<style scoped>\n",
       "    .dataframe tbody tr th:only-of-type {\n",
       "        vertical-align: middle;\n",
       "    }\n",
       "\n",
       "    .dataframe tbody tr th {\n",
       "        vertical-align: top;\n",
       "    }\n",
       "\n",
       "    .dataframe thead th {\n",
       "        text-align: right;\n",
       "    }\n",
       "</style>\n",
       "<table border=\"1\" class=\"dataframe\">\n",
       "  <thead>\n",
       "    <tr style=\"text-align: right;\">\n",
       "      <th></th>\n",
       "      <th>country</th>\n",
       "      <th>spend</th>\n",
       "      <th>cpa</th>\n",
       "      <th>cpa_z</th>\n",
       "    </tr>\n",
       "  </thead>\n",
       "  <tbody>\n",
       "  </tbody>\n",
       "</table>\n",
       "</div>"
      ],
      "text/plain": [
       "Empty DataFrame\n",
       "Columns: [country, spend, cpa, cpa_z]\n",
       "Index: []"
      ]
     },
     "metadata": {},
     "output_type": "display_data"
    }
   ],
   "source": [
    "country_perf[\"cpa_z\"] = (country_perf.cpa - country_perf.cpa.mean()) / country_perf.cpa.std()\n",
    "outliers = country_perf[country_perf.cpa_z > 2]\n",
    "print(\"Segments with CPA more than 2σ above mean:\")\n",
    "display(outliers[[\"country\",\"spend\",\"cpa\",\"cpa_z\"]])"
   ]
  },
  {
   "cell_type": "markdown",
   "id": "5364b6fa-07f6-4606-a5a2-17e7e5326f06",
   "metadata": {},
   "source": [
    "## Map Visualization"
   ]
  },
  {
   "cell_type": "code",
   "execution_count": 120,
   "id": "752274ec-af00-4ed1-871f-5a6445a76f15",
   "metadata": {},
   "outputs": [
    {
     "name": "stdout",
     "output_type": "stream",
     "text": [
      "  country    reach  impressions    spend  purchases   clicks  revenue   cpa  \\\n",
      "0      JM    15770        15874    61.50          5   188.80      150 12.30   \n",
      "1      MY    14541        18334   106.68          5   331.51      150 21.34   \n",
      "2      SA     2758        25051   164.12          6   276.48      180 27.35   \n",
      "3      NZ   515676       965679 12722.70        342 10999.69    10260 37.20   \n",
      "4      CA  1564800      2223036 42058.92        986 26576.61    29580 42.66   \n",
      "\n",
      "   conv  roas  cpa_z  country_name  \n",
      "0  0.03  2.44  -1.62       Jamaica  \n",
      "1  0.02  1.41  -1.02      Malaysia  \n",
      "2  0.02  1.10  -0.62  Saudi Arabia  \n",
      "3  0.03  0.81   0.03   New Zealand  \n",
      "4  0.04  0.70   0.39        Canada  \n"
     ]
    }
   ],
   "source": [
    "# Create a function to map country dialing code to full country name\n",
    "def country_code_to_name(code):\n",
    "    try:\n",
    "        country = pycountry.countries.get(alpha_2=code)\n",
    "        return country.name if country else None\n",
    "    except KeyError:\n",
    "        return None\n",
    "\n",
    "# Apply the function to your 'country' column\n",
    "country_perf['country_name'] = country_perf['country'].apply(lambda x: country_code_to_name(x.upper()))\n",
    "\n",
    "# Display the updated dataset\n",
    "print(country_perf.head())\n"
   ]
  },
  {
   "cell_type": "code",
   "execution_count": 121,
   "id": "87059492-3bf7-4c6b-aab8-7722a17ca609",
   "metadata": {},
   "outputs": [
    {
     "data": {
      "application/vnd.plotly.v1+json": {
       "config": {
        "plotlyServerURL": "https://plot.ly"
       },
       "data": [
        {
         "coloraxis": "coloraxis",
         "geo": "geo",
         "hovertemplate": "<b>%{hovertext}</b><br><br>country_name=%{location}<br>Cost Per Acquisition=%{z}<extra></extra>",
         "hovertext": [
          "JM",
          "MY",
          "SA",
          "NZ",
          "CA",
          "AU",
          "GB",
          "US"
         ],
         "locationmode": "country names",
         "locations": [
          "JAMAICA",
          "MALAYSIA",
          "SAUDI ARABIA",
          "NEW ZEALAND",
          "CANADA",
          "AUSTRALIA",
          "UNITED KINGDOM",
          "UNITED STATES"
         ],
         "name": "",
         "type": "choropleth",
         "z": [
          12.300799999999999,
          21.336000000000002,
          27.35298068333333,
          37.200879966959064,
          42.65610544858012,
          47.04258842565492,
          52.780151839041096,
          53.4938887081904
         ]
        }
       ],
       "layout": {
        "coloraxis": {
         "colorbar": {
          "title": {
           "text": "Cost Per Acquisition"
          }
         },
         "colorscale": [
          [
           0,
           "rgb(255,255,217)"
          ],
          [
           0.125,
           "rgb(237,248,177)"
          ],
          [
           0.25,
           "rgb(199,233,180)"
          ],
          [
           0.375,
           "rgb(127,205,187)"
          ],
          [
           0.5,
           "rgb(65,182,196)"
          ],
          [
           0.625,
           "rgb(29,145,192)"
          ],
          [
           0.75,
           "rgb(34,94,168)"
          ],
          [
           0.875,
           "rgb(37,52,148)"
          ],
          [
           1,
           "rgb(8,29,88)"
          ]
         ]
        },
        "geo": {
         "center": {},
         "domain": {
          "x": [
           0,
           1
          ],
          "y": [
           0,
           1
          ]
         }
        },
        "height": 800,
        "legend": {
         "tracegroupgap": 0
        },
        "margin": {
         "t": 60
        },
        "template": {
         "data": {
          "bar": [
           {
            "error_x": {
             "color": "#2a3f5f"
            },
            "error_y": {
             "color": "#2a3f5f"
            },
            "marker": {
             "line": {
              "color": "#E5ECF6",
              "width": 0.5
             },
             "pattern": {
              "fillmode": "overlay",
              "size": 10,
              "solidity": 0.2
             }
            },
            "type": "bar"
           }
          ],
          "barpolar": [
           {
            "marker": {
             "line": {
              "color": "#E5ECF6",
              "width": 0.5
             },
             "pattern": {
              "fillmode": "overlay",
              "size": 10,
              "solidity": 0.2
             }
            },
            "type": "barpolar"
           }
          ],
          "carpet": [
           {
            "aaxis": {
             "endlinecolor": "#2a3f5f",
             "gridcolor": "white",
             "linecolor": "white",
             "minorgridcolor": "white",
             "startlinecolor": "#2a3f5f"
            },
            "baxis": {
             "endlinecolor": "#2a3f5f",
             "gridcolor": "white",
             "linecolor": "white",
             "minorgridcolor": "white",
             "startlinecolor": "#2a3f5f"
            },
            "type": "carpet"
           }
          ],
          "choropleth": [
           {
            "colorbar": {
             "outlinewidth": 0,
             "ticks": ""
            },
            "type": "choropleth"
           }
          ],
          "contour": [
           {
            "colorbar": {
             "outlinewidth": 0,
             "ticks": ""
            },
            "colorscale": [
             [
              0,
              "#0d0887"
             ],
             [
              0.1111111111111111,
              "#46039f"
             ],
             [
              0.2222222222222222,
              "#7201a8"
             ],
             [
              0.3333333333333333,
              "#9c179e"
             ],
             [
              0.4444444444444444,
              "#bd3786"
             ],
             [
              0.5555555555555556,
              "#d8576b"
             ],
             [
              0.6666666666666666,
              "#ed7953"
             ],
             [
              0.7777777777777778,
              "#fb9f3a"
             ],
             [
              0.8888888888888888,
              "#fdca26"
             ],
             [
              1,
              "#f0f921"
             ]
            ],
            "type": "contour"
           }
          ],
          "contourcarpet": [
           {
            "colorbar": {
             "outlinewidth": 0,
             "ticks": ""
            },
            "type": "contourcarpet"
           }
          ],
          "heatmap": [
           {
            "colorbar": {
             "outlinewidth": 0,
             "ticks": ""
            },
            "colorscale": [
             [
              0,
              "#0d0887"
             ],
             [
              0.1111111111111111,
              "#46039f"
             ],
             [
              0.2222222222222222,
              "#7201a8"
             ],
             [
              0.3333333333333333,
              "#9c179e"
             ],
             [
              0.4444444444444444,
              "#bd3786"
             ],
             [
              0.5555555555555556,
              "#d8576b"
             ],
             [
              0.6666666666666666,
              "#ed7953"
             ],
             [
              0.7777777777777778,
              "#fb9f3a"
             ],
             [
              0.8888888888888888,
              "#fdca26"
             ],
             [
              1,
              "#f0f921"
             ]
            ],
            "type": "heatmap"
           }
          ],
          "heatmapgl": [
           {
            "colorbar": {
             "outlinewidth": 0,
             "ticks": ""
            },
            "colorscale": [
             [
              0,
              "#0d0887"
             ],
             [
              0.1111111111111111,
              "#46039f"
             ],
             [
              0.2222222222222222,
              "#7201a8"
             ],
             [
              0.3333333333333333,
              "#9c179e"
             ],
             [
              0.4444444444444444,
              "#bd3786"
             ],
             [
              0.5555555555555556,
              "#d8576b"
             ],
             [
              0.6666666666666666,
              "#ed7953"
             ],
             [
              0.7777777777777778,
              "#fb9f3a"
             ],
             [
              0.8888888888888888,
              "#fdca26"
             ],
             [
              1,
              "#f0f921"
             ]
            ],
            "type": "heatmapgl"
           }
          ],
          "histogram": [
           {
            "marker": {
             "pattern": {
              "fillmode": "overlay",
              "size": 10,
              "solidity": 0.2
             }
            },
            "type": "histogram"
           }
          ],
          "histogram2d": [
           {
            "colorbar": {
             "outlinewidth": 0,
             "ticks": ""
            },
            "colorscale": [
             [
              0,
              "#0d0887"
             ],
             [
              0.1111111111111111,
              "#46039f"
             ],
             [
              0.2222222222222222,
              "#7201a8"
             ],
             [
              0.3333333333333333,
              "#9c179e"
             ],
             [
              0.4444444444444444,
              "#bd3786"
             ],
             [
              0.5555555555555556,
              "#d8576b"
             ],
             [
              0.6666666666666666,
              "#ed7953"
             ],
             [
              0.7777777777777778,
              "#fb9f3a"
             ],
             [
              0.8888888888888888,
              "#fdca26"
             ],
             [
              1,
              "#f0f921"
             ]
            ],
            "type": "histogram2d"
           }
          ],
          "histogram2dcontour": [
           {
            "colorbar": {
             "outlinewidth": 0,
             "ticks": ""
            },
            "colorscale": [
             [
              0,
              "#0d0887"
             ],
             [
              0.1111111111111111,
              "#46039f"
             ],
             [
              0.2222222222222222,
              "#7201a8"
             ],
             [
              0.3333333333333333,
              "#9c179e"
             ],
             [
              0.4444444444444444,
              "#bd3786"
             ],
             [
              0.5555555555555556,
              "#d8576b"
             ],
             [
              0.6666666666666666,
              "#ed7953"
             ],
             [
              0.7777777777777778,
              "#fb9f3a"
             ],
             [
              0.8888888888888888,
              "#fdca26"
             ],
             [
              1,
              "#f0f921"
             ]
            ],
            "type": "histogram2dcontour"
           }
          ],
          "mesh3d": [
           {
            "colorbar": {
             "outlinewidth": 0,
             "ticks": ""
            },
            "type": "mesh3d"
           }
          ],
          "parcoords": [
           {
            "line": {
             "colorbar": {
              "outlinewidth": 0,
              "ticks": ""
             }
            },
            "type": "parcoords"
           }
          ],
          "pie": [
           {
            "automargin": true,
            "type": "pie"
           }
          ],
          "scatter": [
           {
            "fillpattern": {
             "fillmode": "overlay",
             "size": 10,
             "solidity": 0.2
            },
            "type": "scatter"
           }
          ],
          "scatter3d": [
           {
            "line": {
             "colorbar": {
              "outlinewidth": 0,
              "ticks": ""
             }
            },
            "marker": {
             "colorbar": {
              "outlinewidth": 0,
              "ticks": ""
             }
            },
            "type": "scatter3d"
           }
          ],
          "scattercarpet": [
           {
            "marker": {
             "colorbar": {
              "outlinewidth": 0,
              "ticks": ""
             }
            },
            "type": "scattercarpet"
           }
          ],
          "scattergeo": [
           {
            "marker": {
             "colorbar": {
              "outlinewidth": 0,
              "ticks": ""
             }
            },
            "type": "scattergeo"
           }
          ],
          "scattergl": [
           {
            "marker": {
             "colorbar": {
              "outlinewidth": 0,
              "ticks": ""
             }
            },
            "type": "scattergl"
           }
          ],
          "scattermapbox": [
           {
            "marker": {
             "colorbar": {
              "outlinewidth": 0,
              "ticks": ""
             }
            },
            "type": "scattermapbox"
           }
          ],
          "scatterpolar": [
           {
            "marker": {
             "colorbar": {
              "outlinewidth": 0,
              "ticks": ""
             }
            },
            "type": "scatterpolar"
           }
          ],
          "scatterpolargl": [
           {
            "marker": {
             "colorbar": {
              "outlinewidth": 0,
              "ticks": ""
             }
            },
            "type": "scatterpolargl"
           }
          ],
          "scatterternary": [
           {
            "marker": {
             "colorbar": {
              "outlinewidth": 0,
              "ticks": ""
             }
            },
            "type": "scatterternary"
           }
          ],
          "surface": [
           {
            "colorbar": {
             "outlinewidth": 0,
             "ticks": ""
            },
            "colorscale": [
             [
              0,
              "#0d0887"
             ],
             [
              0.1111111111111111,
              "#46039f"
             ],
             [
              0.2222222222222222,
              "#7201a8"
             ],
             [
              0.3333333333333333,
              "#9c179e"
             ],
             [
              0.4444444444444444,
              "#bd3786"
             ],
             [
              0.5555555555555556,
              "#d8576b"
             ],
             [
              0.6666666666666666,
              "#ed7953"
             ],
             [
              0.7777777777777778,
              "#fb9f3a"
             ],
             [
              0.8888888888888888,
              "#fdca26"
             ],
             [
              1,
              "#f0f921"
             ]
            ],
            "type": "surface"
           }
          ],
          "table": [
           {
            "cells": {
             "fill": {
              "color": "#EBF0F8"
             },
             "line": {
              "color": "white"
             }
            },
            "header": {
             "fill": {
              "color": "#C8D4E3"
             },
             "line": {
              "color": "white"
             }
            },
            "type": "table"
           }
          ]
         },
         "layout": {
          "annotationdefaults": {
           "arrowcolor": "#2a3f5f",
           "arrowhead": 0,
           "arrowwidth": 1
          },
          "autotypenumbers": "strict",
          "coloraxis": {
           "colorbar": {
            "outlinewidth": 0,
            "ticks": ""
           }
          },
          "colorscale": {
           "diverging": [
            [
             0,
             "#8e0152"
            ],
            [
             0.1,
             "#c51b7d"
            ],
            [
             0.2,
             "#de77ae"
            ],
            [
             0.3,
             "#f1b6da"
            ],
            [
             0.4,
             "#fde0ef"
            ],
            [
             0.5,
             "#f7f7f7"
            ],
            [
             0.6,
             "#e6f5d0"
            ],
            [
             0.7,
             "#b8e186"
            ],
            [
             0.8,
             "#7fbc41"
            ],
            [
             0.9,
             "#4d9221"
            ],
            [
             1,
             "#276419"
            ]
           ],
           "sequential": [
            [
             0,
             "#0d0887"
            ],
            [
             0.1111111111111111,
             "#46039f"
            ],
            [
             0.2222222222222222,
             "#7201a8"
            ],
            [
             0.3333333333333333,
             "#9c179e"
            ],
            [
             0.4444444444444444,
             "#bd3786"
            ],
            [
             0.5555555555555556,
             "#d8576b"
            ],
            [
             0.6666666666666666,
             "#ed7953"
            ],
            [
             0.7777777777777778,
             "#fb9f3a"
            ],
            [
             0.8888888888888888,
             "#fdca26"
            ],
            [
             1,
             "#f0f921"
            ]
           ],
           "sequentialminus": [
            [
             0,
             "#0d0887"
            ],
            [
             0.1111111111111111,
             "#46039f"
            ],
            [
             0.2222222222222222,
             "#7201a8"
            ],
            [
             0.3333333333333333,
             "#9c179e"
            ],
            [
             0.4444444444444444,
             "#bd3786"
            ],
            [
             0.5555555555555556,
             "#d8576b"
            ],
            [
             0.6666666666666666,
             "#ed7953"
            ],
            [
             0.7777777777777778,
             "#fb9f3a"
            ],
            [
             0.8888888888888888,
             "#fdca26"
            ],
            [
             1,
             "#f0f921"
            ]
           ]
          },
          "colorway": [
           "#636efa",
           "#EF553B",
           "#00cc96",
           "#ab63fa",
           "#FFA15A",
           "#19d3f3",
           "#FF6692",
           "#B6E880",
           "#FF97FF",
           "#FECB52"
          ],
          "font": {
           "color": "#2a3f5f"
          },
          "geo": {
           "bgcolor": "white",
           "lakecolor": "white",
           "landcolor": "#E5ECF6",
           "showlakes": true,
           "showland": true,
           "subunitcolor": "white"
          },
          "hoverlabel": {
           "align": "left"
          },
          "hovermode": "closest",
          "mapbox": {
           "style": "light"
          },
          "paper_bgcolor": "white",
          "plot_bgcolor": "#E5ECF6",
          "polar": {
           "angularaxis": {
            "gridcolor": "white",
            "linecolor": "white",
            "ticks": ""
           },
           "bgcolor": "#E5ECF6",
           "radialaxis": {
            "gridcolor": "white",
            "linecolor": "white",
            "ticks": ""
           }
          },
          "scene": {
           "xaxis": {
            "backgroundcolor": "#E5ECF6",
            "gridcolor": "white",
            "gridwidth": 2,
            "linecolor": "white",
            "showbackground": true,
            "ticks": "",
            "zerolinecolor": "white"
           },
           "yaxis": {
            "backgroundcolor": "#E5ECF6",
            "gridcolor": "white",
            "gridwidth": 2,
            "linecolor": "white",
            "showbackground": true,
            "ticks": "",
            "zerolinecolor": "white"
           },
           "zaxis": {
            "backgroundcolor": "#E5ECF6",
            "gridcolor": "white",
            "gridwidth": 2,
            "linecolor": "white",
            "showbackground": true,
            "ticks": "",
            "zerolinecolor": "white"
           }
          },
          "shapedefaults": {
           "line": {
            "color": "#2a3f5f"
           }
          },
          "ternary": {
           "aaxis": {
            "gridcolor": "white",
            "linecolor": "white",
            "ticks": ""
           },
           "baxis": {
            "gridcolor": "white",
            "linecolor": "white",
            "ticks": ""
           },
           "bgcolor": "#E5ECF6",
           "caxis": {
            "gridcolor": "white",
            "linecolor": "white",
            "ticks": ""
           }
          },
          "title": {
           "x": 0.05
          },
          "xaxis": {
           "automargin": true,
           "gridcolor": "white",
           "linecolor": "white",
           "ticks": "",
           "title": {
            "standoff": 15
           },
           "zerolinecolor": "white",
           "zerolinewidth": 2
          },
          "yaxis": {
           "automargin": true,
           "gridcolor": "white",
           "linecolor": "white",
           "ticks": "",
           "title": {
            "standoff": 15
           },
           "zerolinecolor": "white",
           "zerolinewidth": 2
          }
         }
        },
        "width": 1200
       }
      },
      "image/png": "[encoded data removed]",
      "text/html": [
       "<div>                            <div id=\"7f92f819-c3ca-4170-b7b4-ba1fb7361279\" class=\"plotly-graph-div\" style=\"height:800px; width:1200px;\"></div>            <script type=\"text/javascript\">                require([\"plotly\"], function(Plotly) {                    window.PLOTLYENV=window.PLOTLYENV || {};                                    if (document.getElementById(\"7f92f819-c3ca-4170-b7b4-ba1fb7361279\")) {                    Plotly.newPlot(                        \"7f92f819-c3ca-4170-b7b4-ba1fb7361279\",                        [{\"coloraxis\":\"coloraxis\",\"geo\":\"geo\",\"hovertemplate\":\"\\u003cb\\u003e%{hovertext}\\u003c\\u002fb\\u003e\\u003cbr\\u003e\\u003cbr\\u003ecountry_name=%{location}\\u003cbr\\u003eCost Per Acquisition=%{z}\\u003cextra\\u003e\\u003c\\u002fextra\\u003e\",\"hovertext\":[\"JM\",\"MY\",\"SA\",\"NZ\",\"CA\",\"AU\",\"GB\",\"US\"],\"locationmode\":\"country names\",\"locations\":[\"JAMAICA\",\"MALAYSIA\",\"SAUDI ARABIA\",\"NEW ZEALAND\",\"CANADA\",\"AUSTRALIA\",\"UNITED KINGDOM\",\"UNITED STATES\"],\"name\":\"\",\"z\":[12.300799999999999,21.336000000000002,27.35298068333333,37.200879966959064,42.65610544858012,47.04258842565492,52.780151839041096,53.4938887081904],\"type\":\"choropleth\"}],                        {\"template\":{\"data\":{\"histogram2dcontour\":[{\"type\":\"histogram2dcontour\",\"colorbar\":{\"outlinewidth\":0,\"ticks\":\"\"},\"colorscale\":[[0.0,\"#0d0887\"],[0.1111111111111111,\"#46039f\"],[0.2222222222222222,\"#7201a8\"],[0.3333333333333333,\"#9c179e\"],[0.4444444444444444,\"#bd3786\"],[0.5555555555555556,\"#d8576b\"],[0.6666666666666666,\"#ed7953\"],[0.7777777777777778,\"#fb9f3a\"],[0.8888888888888888,\"#fdca26\"],[1.0,\"#f0f921\"]]}],\"choropleth\":[{\"type\":\"choropleth\",\"colorbar\":{\"outlinewidth\":0,\"ticks\":\"\"}}],\"histogram2d\":[{\"type\":\"histogram2d\",\"colorbar\":{\"outlinewidth\":0,\"ticks\":\"\"},\"colorscale\":[[0.0,\"#0d0887\"],[0.1111111111111111,\"#46039f\"],[0.2222222222222222,\"#7201a8\"],[0.3333333333333333,\"#9c179e\"],[0.4444444444444444,\"#bd3786\"],[0.5555555555555556,\"#d8576b\"],[0.6666666666666666,\"#ed7953\"],[0.7777777777777778,\"#fb9f3a\"],[0.8888888888888888,\"#fdca26\"],[1.0,\"#f0f921\"]]}],\"heatmap\":[{\"type\":\"heatmap\",\"colorbar\":{\"outlinewidth\":0,\"ticks\":\"\"},\"colorscale\":[[0.0,\"#0d0887\"],[0.1111111111111111,\"#46039f\"],[0.2222222222222222,\"#7201a8\"],[0.3333333333333333,\"#9c179e\"],[0.4444444444444444,\"#bd3786\"],[0.5555555555555556,\"#d8576b\"],[0.6666666666666666,\"#ed7953\"],[0.7777777777777778,\"#fb9f3a\"],[0.8888888888888888,\"#fdca26\"],[1.0,\"#f0f921\"]]}],\"heatmapgl\":[{\"type\":\"heatmapgl\",\"colorbar\":{\"outlinewidth\":0,\"ticks\":\"\"},\"colorscale\":[[0.0,\"#0d0887\"],[0.1111111111111111,\"#46039f\"],[0.2222222222222222,\"#7201a8\"],[0.3333333333333333,\"#9c179e\"],[0.4444444444444444,\"#bd3786\"],[0.5555555555555556,\"#d8576b\"],[0.6666666666666666,\"#ed7953\"],[0.7777777777777778,\"#fb9f3a\"],[0.8888888888888888,\"#fdca26\"],[1.0,\"#f0f921\"]]}],\"contourcarpet\":[{\"type\":\"contourcarpet\",\"colorbar\":{\"outlinewidth\":0,\"ticks\":\"\"}}],\"contour\":[{\"type\":\"contour\",\"colorbar\":{\"outlinewidth\":0,\"ticks\":\"\"},\"colorscale\":[[0.0,\"#0d0887\"],[0.1111111111111111,\"#46039f\"],[0.2222222222222222,\"#7201a8\"],[0.3333333333333333,\"#9c179e\"],[0.4444444444444444,\"#bd3786\"],[0.5555555555555556,\"#d8576b\"],[0.6666666666666666,\"#ed7953\"],[0.7777777777777778,\"#fb9f3a\"],[0.8888888888888888,\"#fdca26\"],[1.0,\"#f0f921\"]]}],\"surface\":[{\"type\":\"surface\",\"colorbar\":{\"outlinewidth\":0,\"ticks\":\"\"},\"colorscale\":[[0.0,\"#0d0887\"],[0.1111111111111111,\"#46039f\"],[0.2222222222222222,\"#7201a8\"],[0.3333333333333333,\"#9c179e\"],[0.4444444444444444,\"#bd3786\"],[0.5555555555555556,\"#d8576b\"],[0.6666666666666666,\"#ed7953\"],[0.7777777777777778,\"#fb9f3a\"],[0.8888888888888888,\"#fdca26\"],[1.0,\"#f0f921\"]]}],\"mesh3d\":[{\"type\":\"mesh3d\",\"colorbar\":{\"outlinewidth\":0,\"ticks\":\"\"}}],\"scatter\":[{\"fillpattern\":{\"fillmode\":\"overlay\",\"size\":10,\"solidity\":0.2},\"type\":\"scatter\"}],\"parcoords\":[{\"type\":\"parcoords\",\"line\":{\"colorbar\":{\"outlinewidth\":0,\"ticks\":\"\"}}}],\"scatterpolargl\":[{\"type\":\"scatterpolargl\",\"marker\":{\"colorbar\":{\"outlinewidth\":0,\"ticks\":\"\"}}}],\"bar\":[{\"error_x\":{\"color\":\"#2a3f5f\"},\"error_y\":{\"color\":\"#2a3f5f\"},\"marker\":{\"line\":{\"color\":\"#E5ECF6\",\"width\":0.5},\"pattern\":{\"fillmode\":\"overlay\",\"size\":10,\"solidity\":0.2}},\"type\":\"bar\"}],\"scattergeo\":[{\"type\":\"scattergeo\",\"marker\":{\"colorbar\":{\"outlinewidth\":0,\"ticks\":\"\"}}}],\"scatterpolar\":[{\"type\":\"scatterpolar\",\"marker\":{\"colorbar\":{\"outlinewidth\":0,\"ticks\":\"\"}}}],\"histogram\":[{\"marker\":{\"pattern\":{\"fillmode\":\"overlay\",\"size\":10,\"solidity\":0.2}},\"type\":\"histogram\"}],\"scattergl\":[{\"type\":\"scattergl\",\"marker\":{\"colorbar\":{\"outlinewidth\":0,\"ticks\":\"\"}}}],\"scatter3d\":[{\"type\":\"scatter3d\",\"line\":{\"colorbar\":{\"outlinewidth\":0,\"ticks\":\"\"}},\"marker\":{\"colorbar\":{\"outlinewidth\":0,\"ticks\":\"\"}}}],\"scattermapbox\":[{\"type\":\"scattermapbox\",\"marker\":{\"colorbar\":{\"outlinewidth\":0,\"ticks\":\"\"}}}],\"scatterternary\":[{\"type\":\"scatterternary\",\"marker\":{\"colorbar\":{\"outlinewidth\":0,\"ticks\":\"\"}}}],\"scattercarpet\":[{\"type\":\"scattercarpet\",\"marker\":{\"colorbar\":{\"outlinewidth\":0,\"ticks\":\"\"}}}],\"carpet\":[{\"aaxis\":{\"endlinecolor\":\"#2a3f5f\",\"gridcolor\":\"white\",\"linecolor\":\"white\",\"minorgridcolor\":\"white\",\"startlinecolor\":\"#2a3f5f\"},\"baxis\":{\"endlinecolor\":\"#2a3f5f\",\"gridcolor\":\"white\",\"linecolor\":\"white\",\"minorgridcolor\":\"white\",\"startlinecolor\":\"#2a3f5f\"},\"type\":\"carpet\"}],\"table\":[{\"cells\":{\"fill\":{\"color\":\"#EBF0F8\"},\"line\":{\"color\":\"white\"}},\"header\":{\"fill\":{\"color\":\"#C8D4E3\"},\"line\":{\"color\":\"white\"}},\"type\":\"table\"}],\"barpolar\":[{\"marker\":{\"line\":{\"color\":\"#E5ECF6\",\"width\":0.5},\"pattern\":{\"fillmode\":\"overlay\",\"size\":10,\"solidity\":0.2}},\"type\":\"barpolar\"}],\"pie\":[{\"automargin\":true,\"type\":\"pie\"}]},\"layout\":{\"autotypenumbers\":\"strict\",\"colorway\":[\"#636efa\",\"#EF553B\",\"#00cc96\",\"#ab63fa\",\"#FFA15A\",\"#19d3f3\",\"#FF6692\",\"#B6E880\",\"#FF97FF\",\"#FECB52\"],\"font\":{\"color\":\"#2a3f5f\"},\"hovermode\":\"closest\",\"hoverlabel\":{\"align\":\"left\"},\"paper_bgcolor\":\"white\",\"plot_bgcolor\":\"#E5ECF6\",\"polar\":{\"bgcolor\":\"#E5ECF6\",\"angularaxis\":{\"gridcolor\":\"white\",\"linecolor\":\"white\",\"ticks\":\"\"},\"radialaxis\":{\"gridcolor\":\"white\",\"linecolor\":\"white\",\"ticks\":\"\"}},\"ternary\":{\"bgcolor\":\"#E5ECF6\",\"aaxis\":{\"gridcolor\":\"white\",\"linecolor\":\"white\",\"ticks\":\"\"},\"baxis\":{\"gridcolor\":\"white\",\"linecolor\":\"white\",\"ticks\":\"\"},\"caxis\":{\"gridcolor\":\"white\",\"linecolor\":\"white\",\"ticks\":\"\"}},\"coloraxis\":{\"colorbar\":{\"outlinewidth\":0,\"ticks\":\"\"}},\"colorscale\":{\"sequential\":[[0.0,\"#0d0887\"],[0.1111111111111111,\"#46039f\"],[0.2222222222222222,\"#7201a8\"],[0.3333333333333333,\"#9c179e\"],[0.4444444444444444,\"#bd3786\"],[0.5555555555555556,\"#d8576b\"],[0.6666666666666666,\"#ed7953\"],[0.7777777777777778,\"#fb9f3a\"],[0.8888888888888888,\"#fdca26\"],[1.0,\"#f0f921\"]],\"sequentialminus\":[[0.0,\"#0d0887\"],[0.1111111111111111,\"#46039f\"],[0.2222222222222222,\"#7201a8\"],[0.3333333333333333,\"#9c179e\"],[0.4444444444444444,\"#bd3786\"],[0.5555555555555556,\"#d8576b\"],[0.6666666666666666,\"#ed7953\"],[0.7777777777777778,\"#fb9f3a\"],[0.8888888888888888,\"#fdca26\"],[1.0,\"#f0f921\"]],\"diverging\":[[0,\"#8e0152\"],[0.1,\"#c51b7d\"],[0.2,\"#de77ae\"],[0.3,\"#f1b6da\"],[0.4,\"#fde0ef\"],[0.5,\"#f7f7f7\"],[0.6,\"#e6f5d0\"],[0.7,\"#b8e186\"],[0.8,\"#7fbc41\"],[0.9,\"#4d9221\"],[1,\"#276419\"]]},\"xaxis\":{\"gridcolor\":\"white\",\"linecolor\":\"white\",\"ticks\":\"\",\"title\":{\"standoff\":15},\"zerolinecolor\":\"white\",\"automargin\":true,\"zerolinewidth\":2},\"yaxis\":{\"gridcolor\":\"white\",\"linecolor\":\"white\",\"ticks\":\"\",\"title\":{\"standoff\":15},\"zerolinecolor\":\"white\",\"automargin\":true,\"zerolinewidth\":2},\"scene\":{\"xaxis\":{\"backgroundcolor\":\"#E5ECF6\",\"gridcolor\":\"white\",\"linecolor\":\"white\",\"showbackground\":true,\"ticks\":\"\",\"zerolinecolor\":\"white\",\"gridwidth\":2},\"yaxis\":{\"backgroundcolor\":\"#E5ECF6\",\"gridcolor\":\"white\",\"linecolor\":\"white\",\"showbackground\":true,\"ticks\":\"\",\"zerolinecolor\":\"white\",\"gridwidth\":2},\"zaxis\":{\"backgroundcolor\":\"#E5ECF6\",\"gridcolor\":\"white\",\"linecolor\":\"white\",\"showbackground\":true,\"ticks\":\"\",\"zerolinecolor\":\"white\",\"gridwidth\":2}},\"shapedefaults\":{\"line\":{\"color\":\"#2a3f5f\"}},\"annotationdefaults\":{\"arrowcolor\":\"#2a3f5f\",\"arrowhead\":0,\"arrowwidth\":1},\"geo\":{\"bgcolor\":\"white\",\"landcolor\":\"#E5ECF6\",\"subunitcolor\":\"white\",\"showland\":true,\"showlakes\":true,\"lakecolor\":\"white\"},\"title\":{\"x\":0.05},\"mapbox\":{\"style\":\"light\"}}},\"geo\":{\"domain\":{\"x\":[0.0,1.0],\"y\":[0.0,1.0]},\"center\":{}},\"coloraxis\":{\"colorbar\":{\"title\":{\"text\":\"Cost Per Acquisition\"}},\"colorscale\":[[0.0,\"rgb(255,255,217)\"],[0.125,\"rgb(237,248,177)\"],[0.25,\"rgb(199,233,180)\"],[0.375,\"rgb(127,205,187)\"],[0.5,\"rgb(65,182,196)\"],[0.625,\"rgb(29,145,192)\"],[0.75,\"rgb(34,94,168)\"],[0.875,\"rgb(37,52,148)\"],[1.0,\"rgb(8,29,88)\"]]},\"legend\":{\"tracegroupgap\":0},\"margin\":{\"t\":60},\"width\":1200,\"height\":800},                        {\"responsive\": true}                    ).then(function(){\n",
       "                            \n",
       "var gd = document.getElementById('7f92f819-c3ca-4170-b7b4-ba1fb7361279');\n",
       "var x = new MutationObserver(function (mutations, observer) {{\n",
       "        var display = window.getComputedStyle(gd).display;\n",
       "        if (!display || display === 'none') {{\n",
       "            console.log([gd, 'removed!']);\n",
       "            Plotly.purge(gd);\n",
       "            observer.disconnect();\n",
       "        }}\n",
       "}});\n",
       "\n",
       "// Listen for the removal of the full notebook cells\n",
       "var notebookContainer = gd.closest('#notebook-container');\n",
       "if (notebookContainer) {{\n",
       "    x.observe(notebookContainer, {childList: true});\n",
       "}}\n",
       "\n",
       "// Listen for the clearing of the current output cell\n",
       "var outputEl = gd.closest('.output');\n",
       "if (outputEl) {{\n",
       "    x.observe(outputEl, {childList: true});\n",
       "}}\n",
       "\n",
       "                        })                };                });            </script>        </div>"
      ]
     },
     "metadata": {},
     "output_type": "display_data"
    }
   ],
   "source": [
    "# Ensure country names are in uppercase to match Plotly's format\n",
    "country_perf['country_name'] = country_perf['country_name'].str.upper()\n",
    "\n",
    "# Create the choropleth map\n",
    "fig = px.choropleth(country_perf,\n",
    "                    locations='country_name',\n",
    "                    locationmode='country names',\n",
    "                    color='cpa',\n",
    "                    hover_name='country',\n",
    "                    color_continuous_scale='YlGnBu',  # Light to dark blue, lower CPA darker\n",
    "                    labels={'cpa': 'Cost Per Acquisition'},\n",
    "                    # title='Geo Heatmap of Countries by CPA'\n",
    "                   )\n",
    "\n",
    "fig.update_layout(\n",
    "    width=1200,  # Adjust the width as needed\n",
    "    height=800   # Adjust the height as needed\n",
    ")\n",
    "\n",
    "# Show the map\n",
    "fig.show()\n"
   ]
  },
  {
   "cell_type": "code",
   "execution_count": null,
   "id": "c4d5d7bf-25e2-4610-bcb6-32e153a52c6c",
   "metadata": {},
   "outputs": [],
   "source": []
  }
 ],
 "metadata": {
  "kernelspec": {
   "display_name": "Python 3 (ipykernel)",
   "language": "python",
   "name": "python3"
  },
  "language_info": {
   "codemirror_mode": {
    "name": "ipython",
    "version": 3
   },
   "file_extension": ".py",
   "mimetype": "text/x-python",
   "name": "python",
   "nbconvert_exporter": "python",
   "pygments_lexer": "ipython3",
   "version": "3.10.0"
  }
 },
 "nbformat": 4,
 "nbformat_minor": 5
}
