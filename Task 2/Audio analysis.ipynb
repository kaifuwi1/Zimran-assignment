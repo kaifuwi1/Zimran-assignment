{
 "cells": [
  {
   "cell_type": "markdown",
   "id": "1b101479-0a09-40cb-b504-795bac79b9da",
   "metadata": {},
   "source": [
    "### Importing needed libraries"
   ]
  },
  {
   "cell_type": "code",
   "execution_count": 26,
   "id": "2ba6d4b9-39d2-42b9-acc0-cbde936d523d",
   "metadata": {},
   "outputs": [],
   "source": [
    "import openai\n",
    "from openai import OpenAI\n",
    "import os\n",
    "# from OpenAIKey import key1"
   ]
  },
  {
   "cell_type": "markdown",
   "id": "315a4366-504a-4fee-8ef5-9559dd03d6ba",
   "metadata": {},
   "source": [
    "####  Setting API key for openAI"
   ]
  },
  {
   "cell_type": "code",
   "execution_count": null,
   "id": "58ec4072-7763-4146-8017-5398d49ca413",
   "metadata": {},
   "outputs": [],
   "source": [
    "# Set your API key\n",
    "\n",
    "key = key\n",
    "client = OpenAI(api_key=key)"
   ]
  },
  {
   "cell_type": "markdown",
   "id": "255e404c-0a3e-413b-9f0f-34a27ed49b68",
   "metadata": {},
   "source": [
    "####  Audio --> Text using OpenAI Whisper"
   ]
  },
  {
   "cell_type": "code",
   "execution_count": 5,
   "id": "0b540de0-8853-4c41-8ef2-559add723853",
   "metadata": {},
   "outputs": [
    {
     "name": "stdout",
     "output_type": "stream",
     "text": [
      "Transcribing 489009024_1007440701480920_7337469975023099181_n_.mp4...\n",
      "Saved Subtitles\\489009024_1007440701480920_7337469975023099181_n_.mp4.txt\n",
      "Transcribing 489773670_678418234655803_2710745979953401137_n_.mp4...\n",
      "Saved Subtitles\\489773670_678418234655803_2710745979953401137_n_.mp4.txt\n",
      "Transcribing 490064184_641650848773784_1273247058236782761_n_.mp4...\n",
      "Saved Subtitles\\490064184_641650848773784_1273247058236782761_n_.mp4.txt\n",
      "Transcribing 490300980_1070728305090662_4471118337746361843_n_.mp4...\n",
      "Saved Subtitles\\490300980_1070728305090662_4471118337746361843_n_.mp4.txt\n",
      "Transcribing 490453866_682239014349245_647945285457981597_n_.mp4...\n",
      "Saved Subtitles\\490453866_682239014349245_647945285457981597_n_.mp4.txt\n",
      "Transcribing 490469251_1398671574822164_3908302394733704068_n_.mp4...\n",
      "Saved Subtitles\\490469251_1398671574822164_3908302394733704068_n_.mp4.txt\n",
      "Transcribing 490751503_689256276859569_4642532553079442139_n_.mp4...\n",
      "Saved Subtitles\\490751503_689256276859569_4642532553079442139_n_.mp4.txt\n",
      "Transcribing 490805816_2040920453053067_2025238117032510573_n_.mp4...\n",
      "Saved Subtitles\\490805816_2040920453053067_2025238117032510573_n_.mp4.txt\n",
      "Transcribing 490831025_650788994500845_2621310394070782313_n_.mp4...\n",
      "Saved Subtitles\\490831025_650788994500845_2621310394070782313_n_.mp4.txt\n",
      "Transcribing 490968196_1066166825482724_8524823086957133973_n_.mp4...\n",
      "Saved Subtitles\\490968196_1066166825482724_8524823086957133973_n_.mp4.txt\n",
      "Transcribing 491465652_3951809298406793_391281807400660636_n_.mp4...\n",
      "Saved Subtitles\\491465652_3951809298406793_391281807400660636_n_.mp4.txt\n",
      "Transcribing 491474270_1727331944796767_359116926365225311_n_.mp4...\n",
      "Saved Subtitles\\491474270_1727331944796767_359116926365225311_n_.mp4.txt\n",
      "Transcribing 491481095_1768169837412749_4503030696446120263_n_.mp4...\n",
      "Saved Subtitles\\491481095_1768169837412749_4503030696446120263_n_.mp4.txt\n",
      "Transcribing 491481106_467976369670593_3225182233104390583_n_.mp4...\n",
      "Saved Subtitles\\491481106_467976369670593_3225182233104390583_n_.mp4.txt\n",
      "Transcribing 491482256_975766514709001_831277386941171805_n_.mp4...\n",
      "Saved Subtitles\\491482256_975766514709001_831277386941171805_n_.mp4.txt\n",
      "Transcribing 491485216_1019123899638116_4556885799260771538_n_.mp4...\n",
      "Saved Subtitles\\491485216_1019123899638116_4556885799260771538_n_.mp4.txt\n",
      "Transcribing 491490079_686956400504640_7016740578759591521_n_.mp4...\n",
      "Saved Subtitles\\491490079_686956400504640_7016740578759591521_n_.mp4.txt\n",
      "Transcribing 491520117_713117627731260_5835477630795173476_n_.mp4...\n",
      "Saved Subtitles\\491520117_713117627731260_5835477630795173476_n_.mp4.txt\n",
      "Transcribing 491524438_9698945490219460_3791266597182793609_n_.mp4...\n",
      "Saved Subtitles\\491524438_9698945490219460_3791266597182793609_n_.mp4.txt\n",
      "Transcribing 491602233_686436627088246_4701147714976367941_n_.mp4...\n",
      "Saved Subtitles\\491602233_686436627088246_4701147714976367941_n_.mp4.txt\n",
      "Transcribing 491968963_1199744051939123_8569723079986347818_n_.mp4...\n",
      "Saved Subtitles\\491968963_1199744051939123_8569723079986347818_n_.mp4.txt\n"
     ]
    }
   ],
   "source": [
    "folder_path = \"VIDEOS\"\n",
    "output_folder = \"Subtitles\"\n",
    "\n",
    "os.makedirs(output_folder, exist_ok=True)\n",
    "\n",
    "# Step 3: Loop through all videos\n",
    "for filename in os.listdir(folder_path):\n",
    "    if filename.endswith((\".mp4\", \".mov\", \".mkv\", \".avi\")):\n",
    "        print(f\"Transcribing {filename}...\")\n",
    "        with open(os.path.join(folder_path, filename), \"rb\") as audio_file:\n",
    "            transcript = client.audio.transcriptions.create(\n",
    "                model=\"whisper-1\",\n",
    "                file=audio_file\n",
    "            )\n",
    "        output_path = os.path.join(output_folder, f\"{filename}.txt\")\n",
    "        with open(output_path, \"w\", encoding=\"utf-8\") as f:\n",
    "            f.write(transcript.text)\n",
    "        print(f\"Saved {output_path}\")"
   ]
  },
  {
   "cell_type": "markdown",
   "id": "69768c4a-fbe9-4f15-aa30-73fed9401b87",
   "metadata": {},
   "source": [
    "### Getting Insights from the audio"
   ]
  },
  {
   "cell_type": "code",
   "execution_count": 28,
   "id": "0e5dafd8-6e98-4ca2-8549-d3acf45b2756",
   "metadata": {},
   "outputs": [],
   "source": [
    "# Step 1: Read all text files and combine\n",
    "folder_path = \"Subtitles\"\n",
    "all_texts = []\n",
    "\n",
    "for filename in os.listdir(folder_path):\n",
    "    if filename.endswith(\".txt\"):\n",
    "        with open(os.path.join(folder_path, filename), \"r\", encoding=\"utf-8\") as f:\n",
    "            text = f.read()\n",
    "            all_texts.append(text)\n",
    "\n",
    "# Combine all texts into one big block\n",
    "combined_text = '\\n\\n'.join(all_texts)\n"
   ]
  },
  {
   "cell_type": "code",
   "execution_count": 29,
   "id": "b5c36775-b8b5-4d6d-97d2-5415303f06ad",
   "metadata": {},
   "outputs": [],
   "source": [
    "# Step 2: Create a powerful analysis prompt\n",
    "prompt = f\"\"\"\n",
    "You are a professional marketing strategist.\n",
    "\n",
    "Below is a collection of multiple ad creatives (combined text). \n",
    "Analyze the patterns across all creatives. Break your analysis into the following sections:\n",
    "\n",
    "1) Common Hooks (How most creatives grab attention)\n",
    "2) Common Holds (How most creatives sustain interest)\n",
    "3) Common Emotional Triggers (like curiosity, fear, ambition, etc.)\n",
    "4) Common Stylistic Techniques (sentence structure, commands, storytelling formats)\n",
    "5) Overall Why These Creatives Perform Well (summarize why they are effective as a set)\n",
    "\n",
    "Provide a clear, structured marketing analysis.\n",
    "\n",
    "2. Provide your recommendation in respect of our video creatives based on your analysis\n",
    " above\n",
    "\n",
    "Combined Creatives:\n",
    "\\\"\\\"\\\"\n",
    "{combined_text}\n",
    "\\\"\\\"\\\"\n",
    "\"\"\"\n"
   ]
  },
  {
   "cell_type": "code",
   "execution_count": null,
   "id": "e2987794-6c0a-45aa-8107-c6374bd0947d",
   "metadata": {},
   "outputs": [],
   "source": [
    "# Step 3: Send it to GPT\n",
    "response = client.chat.completions.create(\n",
    "    model=\"gpt-4.1-mini\",\n",
    "    messages=[{\"role\": \"user\", \"content\": prompt}],\n",
    "    temperature=0.5\n",
    ")"
   ]
  },
  {
   "cell_type": "code",
   "execution_count": 30,
   "id": "4c2b46e5-ea75-453a-83c8-410e9839e682",
   "metadata": {},
   "outputs": [
    {
     "name": "stdout",
     "output_type": "stream",
     "text": [
      "Combined analysis saved to 'combined_creative_analysis.txt'\n"
     ]
    }
   ],
   "source": [
    "# Step 4: Save the analysis\n",
    "final_analysis = response.choices[0].message.content\n",
    "\n",
    "# Save to a text file\n",
    "with open(\"combined_creative_analysis.txt\", \"w\", encoding=\"utf-8\") as f:\n",
    "    f.write(final_analysis)\n",
    "\n",
    "print(\"Combined analysis saved to 'combined_creative_analysis.txt'\")"
   ]
  },
  {
   "cell_type": "code",
   "execution_count": null,
   "id": "5076bc45-7037-4ff8-ac5e-4b9348b7c53f",
   "metadata": {},
   "outputs": [],
   "source": []
  }
 ],
 "metadata": {
  "kernelspec": {
   "display_name": "Python 3 (ipykernel)",
   "language": "python",
   "name": "python3"
  },
  "language_info": {
   "codemirror_mode": {
    "name": "ipython",
    "version": 3
   },
   "file_extension": ".py",
   "mimetype": "text/x-python",
   "name": "python",
   "nbconvert_exporter": "python",
   "pygments_lexer": "ipython3",
   "version": "3.10.0"
  }
 },
 "nbformat": 4,
 "nbformat_minor": 5
}
